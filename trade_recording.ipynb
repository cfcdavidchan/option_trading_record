{
 "cells": [
  {
   "cell_type": "code",
   "execution_count": 41,
   "metadata": {},
   "outputs": [],
   "source": [
    "import datetime, sys\n",
    "import pandas as pd\n",
    "todays_date = datetime.datetime.now().date()"
   ]
  },
  {
   "cell_type": "code",
   "execution_count": 59,
   "metadata": {},
   "outputs": [],
   "source": [
    "def input_data():\n",
    "\n",
    "    date = input('Date (yyyymmdd)? Today is %s. Press enter for today\\n'%(str(todays_date)))\n",
    "    if date == '':\n",
    "        date = todays_date\n",
    "    if type(date) == str:\n",
    "        try:\n",
    "            date = datetime.datetime.strptime(date, '%Y%m%d').date()\n",
    "        except:\n",
    "            sys.exit('%s is incorrect formate' %date)\n",
    "    date = date.strftime('%Y-%m-%d')\n",
    "\n",
    "    while True:\n",
    "        call_put = input('Call (C) or Put (P) ?\\n')\n",
    "        if call_put.upper() not in ['C','P']:\n",
    "            print ('%s is incorrect formate' %call_put)\n",
    "        else:\n",
    "            call_put = call_put.upper()\n",
    "            break\n",
    "\n",
    "    while True:\n",
    "        long_short = input('Long(L) or Short(S) ?\\n')\n",
    "        if long_short.upper() not in ['L','S']:\n",
    "            print ('%s is incorrect formate' %long_short)\n",
    "        else:\n",
    "            long_short = long_short.upper()\n",
    "            break\n",
    "\n",
    "    underlying = input('Underlying ?\\n')\n",
    "\n",
    "    contract_month = input('Contract Month (mm) ?\\n')\n",
    "\n",
    "    strike_price = input('Strike Price ?\\n')\n",
    "\n",
    "    price = float(input('Pirce? \\n'))\n",
    "    \n",
    "    size = int(input('Size? \\n'))\n",
    "    \n",
    "    return [date , underlying,call_put ,long_short, contract_month, strike_price, price, size]"
   ]
  },
  {
   "cell_type": "code",
   "execution_count": 120,
   "metadata": {},
   "outputs": [
    {
     "name": "stdout",
     "output_type": "stream",
     "text": [
      "Date (yyyymmdd)? Today is 2018-08-27. Press enter for today\n",
      "\n",
      "Call (C) or Put (P) ?\n",
      "C\n",
      "Long(L) or Short(S) ?\n",
      "S\n",
      "Underlying ?\n",
      "700\n",
      "Contract Month (mm) ?\n",
      "10\n",
      "Strike Price ?\n",
      "999\n",
      "Pirce? \n",
      "5\n",
      "Finished ? \n",
      "\n"
     ]
    }
   ],
   "source": [
    "if __name__ == '__main__':\n",
    "\n",
    "    while True:\n",
    "        labels = ['Date' ,'Underlying', 'Call/Put','Long/Short','Contract Month','Strike Price','Price','Size']\n",
    "        record = input_data()\n",
    "        \n",
    "        try:\n",
    "            dt = pd.read_csv('trading_record.csv',index_col=False)\n",
    "            dt = dt.append(pd.Series(record, index=labels),ignore_index = True)\n",
    "        except:\n",
    "            \n",
    "            dt = pd.DataFrame([record],columns=labels)\n",
    "        \n",
    "        dt.to_csv('trading_record.csv', index=False)\n",
    "        \n",
    "        end_message = input('Finished ? \\n')\n",
    "        if end_message == '' or end_message in ['Y','y']:\n",
    "            break"
   ]
  },
  {
   "cell_type": "code",
   "execution_count": null,
   "metadata": {},
   "outputs": [],
   "source": []
  }
 ],
 "metadata": {
  "kernelspec": {
   "display_name": "Python 3",
   "language": "python",
   "name": "python3"
  },
  "language_info": {
   "codemirror_mode": {
    "name": "ipython",
    "version": 3
   },
   "file_extension": ".py",
   "mimetype": "text/x-python",
   "name": "python",
   "nbconvert_exporter": "python",
   "pygments_lexer": "ipython3",
   "version": "3.5.5"
  }
 },
 "nbformat": 4,
 "nbformat_minor": 2
}
