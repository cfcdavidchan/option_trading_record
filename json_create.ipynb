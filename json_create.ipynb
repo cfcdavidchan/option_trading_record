{
 "cells": [
  {
   "cell_type": "code",
   "execution_count": 15,
   "metadata": {},
   "outputs": [],
   "source": [
    "import json"
   ]
  },
  {
   "cell_type": "code",
   "execution_count": 16,
   "metadata": {},
   "outputs": [
    {
     "name": "stdout",
     "output_type": "stream",
     "text": [
      "Stock ?\n",
      "700\n",
      "Lot size ?\n",
      "100\n",
      "Now create json file\n",
      "Finished ? \n",
      "\n"
     ]
    }
   ],
   "source": [
    "def stock_info():\n",
    "    stock = input('Stock ?\\n')\n",
    "    lots = input('Lot size ?\\n')\n",
    "    \n",
    "    return stock, lots\n",
    "if __name__ == \"__main__\":\n",
    "    while True:\n",
    "        stock, lots = stock_info()\n",
    "        \n",
    "        try:\n",
    "            with open('stock_lots.json') as outputfile:\n",
    "                stock_data = json.load(outputfile)\n",
    "                \n",
    "                if stock in stock_data:\n",
    "                    print ('%s is already with %s lot size' %(stock, lots))\n",
    "                    pass\n",
    "                else:\n",
    "                    stock_data[stock] = lots\n",
    "                    \n",
    "                    with open('stock_lots.json' ,'w') as outputfile:\n",
    "                        json.dump(stock_data, outputfile, sort_key=True)\n",
    "                \n",
    "        except :\n",
    "            stock_data = dict()\n",
    "            stock_data[stock] = lots\n",
    "            with open('stock_lots.json' ,'w') as outputfile:######aasdasd\n",
    "                json.dump(stock_data, outputfile, sort_keys=True)\n",
    "            print ('Now create json file')\n",
    "        \n",
    "        end_message = input('Finished ? \\n')\n",
    "        if end_message == '' or end_message in ['Y','y']:\n",
    "            break"
   ]
  },
  {
   "cell_type": "code",
   "execution_count": 23,
   "metadata": {},
   "outputs": [],
   "source": [
    "with open('stock_lots.json') as outputfile:\n",
    "    stock_data = json.load(outputfile)"
   ]
  },
  {
   "cell_type": "code",
   "execution_count": 24,
   "metadata": {},
   "outputs": [],
   "source": [
    "stock = '66'\n",
    "lots = '100'\n",
    "if stock in stock_data:\n",
    "    print ('%s is already with %s lot size' %(stock, lots))\n",
    "    pass\n",
    "else:\n",
    "    stock_data[stock] = lots\n",
    "with open('stock_lots.json' ,'w') as outputfile:\n",
    "                        json.dump(stock_data, outputfile, sort_key=True)"
   ]
  }
 ],
 "metadata": {
  "kernelspec": {
   "display_name": "Python 3",
   "language": "python",
   "name": "python3"
  }
 },
 "nbformat": 4,
 "nbformat_minor": 2
}
